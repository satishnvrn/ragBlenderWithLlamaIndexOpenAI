{
 "cells": [
  {
   "cell_type": "code",
   "execution_count": 1,
   "metadata": {},
   "outputs": [
    {
     "data": {
      "text/plain": [
       "True"
      ]
     },
     "execution_count": 1,
     "metadata": {},
     "output_type": "execute_result"
    }
   ],
   "source": [
    "import os\n",
    "from dotenv import load_dotenv\n",
    "load_dotenv()"
   ]
  },
  {
   "cell_type": "code",
   "execution_count": 2,
   "metadata": {},
   "outputs": [],
   "source": [
    "os.environ['OPENAI_API_KEY']=os.getenv('OPENAI_API_KEY')"
   ]
  },
  {
   "cell_type": "code",
   "execution_count": 8,
   "metadata": {},
   "outputs": [],
   "source": [
    "from llama_index.legacy import VectorStoreIndex,SimpleDirectoryReader\n",
    "documents=SimpleDirectoryReader('data').load_data()\n"
   ]
  },
  {
   "cell_type": "code",
   "execution_count": 9,
   "metadata": {},
   "outputs": [
    {
     "data": {
      "text/plain": [
       "[Document(id_='f91401cd-35c2-4249-88b1-060d2ae626ec', embedding=None, metadata={'page_label': '1', 'file_name': 'Beginners-Guide-to-Blender.pdf', 'file_path': 'data/Beginners-Guide-to-Blender.pdf', 'file_type': 'application/pdf', 'file_size': 1139290, 'creation_date': '2024-06-23', 'last_modified_date': '2024-06-23', 'last_accessed_date': '2024-06-23'}, excluded_embed_metadata_keys=['file_name', 'file_type', 'file_size', 'creation_date', 'last_modified_date', 'last_accessed_date'], excluded_llm_metadata_keys=['file_name', 'file_type', 'file_size', 'creation_date', 'last_modified_date', 'last_accessed_date'], relationships={}, text='Beginner’s Guide to Blender\\n\\xa0\\n______________________________________________________________________________\\n \\nThis guide was created for Blender version 2.8\\n \\n \\n \\nTable of Contents\\n\\xa0\\nAbout Blender\\n\\u200b\\n………………….2\\n \\n \\n \\nLayout Workspace\\n\\xa0\\nOpening Blender\\n\\u200b\\n……………….2\\n \\nMoving Around in Blender\\n\\u200b\\n…....2\\n \\nMoving Objects in Blender\\n\\u200b\\n…....3\\n \\nAdding Objects\\n\\u200b\\n………………...4\\n \\nDuplication\\n\\u200b\\n……………………...5\\n \\nShade Smooth vs Shade Flat\\n\\u200b\\n…....6\\n \\nModifiers\\n\\u200b\\n……………………….6\\n \\nSubsurf Modifier\\n\\u200b\\n………….…….7\\n \\nSolidify Modifier\\n\\u200b\\n………….…….7\\n \\nArranging Modifiers\\n\\u200b\\n……….…....7\\n \\nEdit Mode\\n\\u200b\\n……………………....7\\n \\nProportional Editing\\n\\u200b\\n……….…....8\\n \\nX-Ray Mode\\n\\u200b\\n ……………….…...9\\n \\nSubdivide\\n\\u200b\\n………………….…….9\\n \\nRender View\\n\\u200b\\n…………………..10\\n \\nParenting\\n\\u200b\\n \\n\\u200b\\n(linking objects)..\\n\\u200b\\n......10\\n \\n \\nSculpt Workspace\\n\\xa0\\n\\xa0\\nChanging Workspaces\\n\\u200b\\n………..11\\n \\nThe Sculpt Workspace\\n\\u200b\\n………..12\\n \\nThe Draw Brush\\n\\u200b\\n………….…….12\\n \\nOther Brushes\\n\\u200b\\n…………….….....12\\n \\n \\nModeling Workspace\\n\\xa0\\nThe Toolbar\\n\\u200b\\n…………………...13\\n \\n \\n \\nAnimation Workspace\\n\\xa0\\nState Colors\\n\\u200b\\n…………………...14\\n \\nRigging\\n\\u200b\\n………………………...14\\n \\nKeyframes\\n\\u200b\\n……………………..15\\n \\nGraph Editor\\n\\u200b\\n………………….15\\n \\n \\nIntermediate Guide to Blender\\n\\u200b\\n.16\\n \\nGlossary\\n\\u200b\\n………………………..16\\n \\n \\n \\n1\\n\\xa0', start_char_idx=None, end_char_idx=None, text_template='{metadata_str}\\n\\n{content}', metadata_template='{key}: {value}', metadata_seperator='\\n'),\n",
       " Document(id_='b7ecbdb0-43ba-43fb-baaa-8e49afc266bb', embedding=None, metadata={'page_label': '2', 'file_name': 'Beginners-Guide-to-Blender.pdf', 'file_path': 'data/Beginners-Guide-to-Blender.pdf', 'file_type': 'application/pdf', 'file_size': 1139290, 'creation_date': '2024-06-23', 'last_modified_date': '2024-06-23', 'last_accessed_date': '2024-06-23'}, excluded_embed_metadata_keys=['file_name', 'file_type', 'file_size', 'creation_date', 'last_modified_date', 'last_accessed_date'], excluded_llm_metadata_keys=['file_name', 'file_type', 'file_size', 'creation_date', 'last_modified_date', 'last_accessed_date'], relationships={}, text='\\xa0\\n\\xa0\\n\\xa0\\nAbout Blender\\n \\n“\\n\\u200b\\nBlender is the free and open source 3D creation suite. It supports the entirety of the 3D\\n \\npipeline—modeling, rigging, animation, simulation, rendering, compositing and motion tracking,\\n \\nvideo editing and 2D animation pipeline.”\\n \\n \\nLearn more about blender at \\n\\u200b\\nblender.org\\n\\u200b\\n.\\n \\n \\nOpening Blender\\n \\nThis is what you will see when you first open Blender. This is called the \\n\\u200b\\n3D Viewport. \\n\\u200b\\nThis is\\n \\nwhere you will spend the majority of your time in Blender when you first get started.\\n \\n \\nOn the left-hand side you have a small \\n\\u200b\\ntoolbar\\n\\u200b\\n. In the center is \\n\\u200b\\nyour scene\\n\\u200b\\n. At the bottom of the\\n \\npage is \\n\\u200b\\nyour timeline\\n\\u200b\\n.\\n \\n \\nOn the top right hand side you have a list of all the objects in your scene. This is called \\n\\u200b\\nthe\\n \\nOutliner\\n\\u200b\\n. This is where you can \\n\\u200b\\nname \\n\\u200b\\nthe objects in your scene.\\n \\n \\nOn the bottom right-hand side you will find \\n\\u200b\\nyour properties panel\\n\\u200b\\n. This is where the majority\\n \\nof the settings can be found.\\n \\n \\nMoving Around in Blender\\n \\nBy holding down the \\n\\u200b\\nmiddle mouse key\\n\\u200b\\n, you can orbit the plane and rotate your viewpoint of\\n \\nthe workspace.\\n \\n2\\n\\xa0', start_char_idx=None, end_char_idx=None, text_template='{metadata_str}\\n\\n{content}', metadata_template='{key}: {value}', metadata_seperator='\\n'),\n",
       " Document(id_='8116a28e-7d89-4f92-9c02-982efd6e0f4a', embedding=None, metadata={'page_label': '3', 'file_name': 'Beginners-Guide-to-Blender.pdf', 'file_path': 'data/Beginners-Guide-to-Blender.pdf', 'file_type': 'application/pdf', 'file_size': 1139290, 'creation_date': '2024-06-23', 'last_modified_date': '2024-06-23', 'last_accessed_date': '2024-06-23'}, excluded_embed_metadata_keys=['file_name', 'file_type', 'file_size', 'creation_date', 'last_modified_date', 'last_accessed_date'], excluded_llm_metadata_keys=['file_name', 'file_type', 'file_size', 'creation_date', 'last_modified_date', 'last_accessed_date'], relationships={}, text='\\xa0\\n \\nBy pressing \\n\\u200b\\nshift + middle mouse button\\n\\u200b\\n, you can pan across the\\n \\nplane.\\n \\nIf you are on a laptop without a mouse you can also use this:\\n \\n \\n(Which can be found in the top right hand corner of the\\n \\nworkspace.)\\n \\nMoving Objects in\\n\\xa0\\nBlender\\n \\nThe tools for moving objects in blender can be found on the left-hand-side toolbar.\\n \\n \\nSelecting the button third from the top will allow you to \\n\\u200b\\nmove your object\\n\\u200b\\n along the three axes\\n \\n(x,y,z). When you select this button, your object will look\\n \\nlike this>>:\\n \\nShortcut: G \\n\\u200b\\n(This will not bring up the axis guides but will\\n \\nallow you to freely move the object. G stands for Grab)\\n \\nWhile it’s moving, if you press x , y, or z it will snap to that\\n \\naxis.\\n \\n \\nUnderneath the move icon is the \\n\\u200b\\nrotate\\n\\u200b\\n icon. This will make\\n \\nyour cube look like this :\\n \\nYou can select any of the colored lines to rotate along an axis\\n \\nbut you can also select anywhere within the cube to do a free\\n \\nrotate.\\n \\n \\nRight click or hit escape to undo your rotation.\\n \\n \\n(Shortcut: R)\\n \\n \\nUnderneath the rotate button is the\\n \\nscale option. It will make your cube\\n \\nlook like this>>:\\n \\n3\\n\\xa0\\n', start_char_idx=None, end_char_idx=None, text_template='{metadata_str}\\n\\n{content}', metadata_template='{key}: {value}', metadata_seperator='\\n'),\n",
       " Document(id_='f1a1b2c7-7ae7-4e4f-a023-ff45e1574bb8', embedding=None, metadata={'page_label': '4', 'file_name': 'Beginners-Guide-to-Blender.pdf', 'file_path': 'data/Beginners-Guide-to-Blender.pdf', 'file_type': 'application/pdf', 'file_size': 1139290, 'creation_date': '2024-06-23', 'last_modified_date': '2024-06-23', 'last_accessed_date': '2024-06-23'}, excluded_embed_metadata_keys=['file_name', 'file_type', 'file_size', 'creation_date', 'last_modified_date', 'last_accessed_date'], excluded_llm_metadata_keys=['file_name', 'file_type', 'file_size', 'creation_date', 'last_modified_date', 'last_accessed_date'], relationships={}, text='\\xa0\\n \\n \\nThese handles work the same as the move handles. You can use\\n \\nthem to drag along the x, y, z axises. Once again, select\\n \\nanywhere within the cube to freely scale. \\n\\u200b\\n(Shortcut: S)\\n \\n \\nBelow scale is transform which is essentially all three mashed\\n \\ninto one function.\\n \\n \\n \\nTip: If you ever want to look at your object from the front, use the shortcut \\n\\u200b\\nnumpad 1\\n\\u200b\\n. If you\\n \\nwant to look at your object from the top, use shortcut \\n\\u200b\\nnumpad 7\\n\\u200b\\n. If you don’t have a number pad,\\n \\npress ~\\n\\u200b\\n \\n\\u200b\\nand you will get all of the same options.\\n \\n \\nAdding Objects To Your Scene\\n \\n(Shortcut: Shift + A)\\n \\nThere is a menu at the top of the screen that has an “Add” button. This opens a dropdown menu:\\n \\n \\nThe most basic features that you will use most often can be found\\n \\nunder \\n\\u200b\\nmesh:\\n \\n \\nNote: If you want to learn more about the different object types, go to\\n \\nthe \\n\\u200b\\nglossary section\\n\\u200b\\n.\\n \\n \\n \\nOnce you select a mesh, a settings option\\n \\nwill appear in the bottom left corner:\\n \\n \\n \\n \\n \\n \\n4\\n\\xa0\\n', start_char_idx=None, end_char_idx=None, text_template='{metadata_str}\\n\\n{content}', metadata_template='{key}: {value}', metadata_seperator='\\n'),\n",
       " Document(id_='39f000d5-df56-4cba-8e0d-1ebea6d29c45', embedding=None, metadata={'page_label': '5', 'file_name': 'Beginners-Guide-to-Blender.pdf', 'file_path': 'data/Beginners-Guide-to-Blender.pdf', 'file_type': 'application/pdf', 'file_size': 1139290, 'creation_date': '2024-06-23', 'last_modified_date': '2024-06-23', 'last_accessed_date': '2024-06-23'}, excluded_embed_metadata_keys=['file_name', 'file_type', 'file_size', 'creation_date', 'last_modified_date', 'last_accessed_date'], excluded_llm_metadata_keys=['file_name', 'file_type', 'file_size', 'creation_date', 'last_modified_date', 'last_accessed_date'], relationships={}, text='\\xa0\\nWhen clicked on, it opens up a menu:\\n \\nHere you can edit the size of your object.\\n \\n \\n \\nEXAMPLE\\n\\u200b\\n:\\n \\nIf you select \\n\\u200b\\nTorus\\n\\u200b\\n you can edit the size of\\n \\nthe major and minor radiuses.\\n \\n \\nMajor and minor segments refers to the\\n \\nresolution \\n\\u200b\\nof the mesh. (It increases the\\n \\namount of vertices in your mesh)\\n \\nThe higher the segments, the higher the\\n \\nresolution, the smoother the mesh.\\n \\n \\nYou want to use as low of a resolution as possible while still getting the shape you want because\\n \\nyou can use a subsurf modifier to smooth out your shape later. It’s simply easier to work with a\\n \\nlower-resolution mesh rather than a higher-resolution mesh.\\n \\n \\nImportant\\n\\u200b\\n: This settings box is \\n\\u200b\\nonly \\n\\u200b\\navailable directly after you create the mesh. If you do an\\n \\naction after creating your mesh, the box will disappear. So make sure to make any changes to\\n \\nyour mesh settings right away.\\n \\n \\nNote\\n\\u200b\\n: The settings will automatically be set to the metric system. If you want to change the units\\n \\nthis is how:\\n \\n \\nThis menu can be found on the right-hand side of the screen.\\n \\n \\n \\n \\n \\n \\n \\n \\n \\n \\n \\n \\nDuplication of an Object\\n\\xa0\\nTo duplicate something, drag your cursor over it to select the entire object (or the portion you\\n \\nwant to duplicate, then press \\n\\u200b\\nshift \\n\\u200b\\n+ \\n\\u200b\\nD.\\n \\n \\n \\n5\\n\\xa0\\n', start_char_idx=None, end_char_idx=None, text_template='{metadata_str}\\n\\n{content}', metadata_template='{key}: {value}', metadata_seperator='\\n'),\n",
       " Document(id_='7beb555e-63e5-4242-a9b4-8ab7925c3c29', embedding=None, metadata={'page_label': '6', 'file_name': 'Beginners-Guide-to-Blender.pdf', 'file_path': 'data/Beginners-Guide-to-Blender.pdf', 'file_type': 'application/pdf', 'file_size': 1139290, 'creation_date': '2024-06-23', 'last_modified_date': '2024-06-23', 'last_accessed_date': '2024-06-23'}, excluded_embed_metadata_keys=['file_name', 'file_type', 'file_size', 'creation_date', 'last_modified_date', 'last_accessed_date'], excluded_llm_metadata_keys=['file_name', 'file_type', 'file_size', 'creation_date', 'last_modified_date', 'last_accessed_date'], relationships={}, text='\\xa0\\n\\xa0\\nImportant\\n\\u200b\\n: When you first duplicate an object, it will just be an extension of the first object. To\\n \\nmake it into its own object, press \\n\\u200b\\nP\\n\\u200b\\n. A small menu will appear, press \\n\\u200b\\nSelection\\n\\u200b\\n. Now you have\\n \\nan independent duplicated object.\\n \\n \\nShade Smooth vs. Shade Flat\\n\\xa0\\nIf you right-click on your mesh, you get these settings:\\n \\n \\n \\nBy pressing either \\n\\u200b\\nShade Smooth\\n\\u200b\\n or \\n\\u200b\\nShade Flat\\n\\u200b\\n, the\\n \\nvertices on your mesh will smoothen. \\n\\u200b\\nShade Smooth\\n\\u200b\\n is\\n \\nfor organic shapes and \\n\\u200b\\nSmooth Flat\\n\\u200b\\n is used for things like\\n \\nbuildings.\\n \\n \\nModifiers\\n \\nA modifier makes minor changes to your object. All modifiers are found in the properties panel\\n \\non the right-hand side of the screen.\\n \\nThis is the properties panel:\\n \\n \\nThe wrench icon that can be found half-way down the menu\\n \\nopens up the \\n\\u200b\\nmodifier page.\\n \\n \\n \\nSelect \\n\\u200b\\nAdd Modifier \\n\\u200b\\nand you will be presented with these\\n \\noptions:\\n \\n \\n \\n \\nThis list is all the possible modifier options. When you select one, it will be added to the\\n \\nmodifier page in the properties panel.\\n \\n \\n6\\n\\xa0\\n', start_char_idx=None, end_char_idx=None, text_template='{metadata_str}\\n\\n{content}', metadata_template='{key}: {value}', metadata_seperator='\\n'),\n",
       " Document(id_='1b8b61f1-b7a6-4d72-863c-b2802aabc291', embedding=None, metadata={'page_label': '7', 'file_name': 'Beginners-Guide-to-Blender.pdf', 'file_path': 'data/Beginners-Guide-to-Blender.pdf', 'file_type': 'application/pdf', 'file_size': 1139290, 'creation_date': '2024-06-23', 'last_modified_date': '2024-06-23', 'last_accessed_date': '2024-06-23'}, excluded_embed_metadata_keys=['file_name', 'file_type', 'file_size', 'creation_date', 'last_modified_date', 'last_accessed_date'], excluded_llm_metadata_keys=['file_name', 'file_type', 'file_size', 'creation_date', 'last_modified_date', 'last_accessed_date'], relationships={}, text='\\xa0\\n\\xa0\\n\\xa0\\n\\xa0\\nTip: Modifiers are applied to the object you have currently selected, so make sure you have the\\n \\nright thing selected before you choose a modifier.\\n \\n \\n \\nNote: Modifiers are \\n\\u200b\\nnon-destructive\\n\\u200b\\n, meaning you can come back and change these settings as\\n \\noften as you like without consequences. However, after you press \\n\\u200b\\napply\\n\\u200b\\n, you can no longer edit\\n \\nthe settings.\\n \\n \\nSubsurf Modifier\\n\\xa0\\nIn the second column, towards the bottom, you will find \\n\\u200b\\nSubdivision Surface\\n\\u200b\\n. This is the most\\n \\ncommonly used effect across all 3D software. While the \\n\\u200b\\nshade smooth\\n\\u200b\\n \\n\\u200b\\noption smoothed out the\\n \\nvertices, this will smooth out the mesh. This way the border of your object won’t have any harsh\\n \\nedges.\\n \\n \\nOnce you select this modifier, the modifier page in the menu will present you with these settings\\n \\nfor the modifier:\\n \\n \\nIncreasing the \\n\\u200b\\nviewport\\n\\u200b\\n increases the\\n \\nsmoothness of the modifier. However, you\\n \\nwant to keep it as low as possible while still\\n \\nmaintaining desired smoothness.\\n \\n \\nSolidify Modifier\\n\\xa0\\nThis modifier will thicken your mesh and\\n \\nadd volume to your object. You can edit the\\n \\nthickness of this modifier in its settings.\\n \\nYou can also edit the \\n\\u200b\\noffset\\n\\u200b\\n. By increasing\\n \\nthe offset, you increase the amount it\\n \\nprotrudes from the mesh.\\n \\n \\n \\nArranging Modifiers\\n\\xa0\\nModifiers work like layers. \\n\\u200b\\nThe layers that are listed first are\\n \\nenacted first.\\n\\u200b\\n This can lead to undesirable effects. To rearrange\\n \\nyour modifiers. Use the up and down arrows that can be found at\\n \\nthe top of each modifier settings page.\\n \\n \\nEdit Mode\\n \\nTo tweak (edit) the shape of your object/mesh, you need to enter\\n \\nedit mode\\n\\u200b\\n.\\n \\n7\\n\\xa0\\n', start_char_idx=None, end_char_idx=None, text_template='{metadata_str}\\n\\n{content}', metadata_template='{key}: {value}', metadata_seperator='\\n'),\n",
       " Document(id_='6b46ce58-606d-425a-9a77-bb0620b0c95f', embedding=None, metadata={'page_label': '8', 'file_name': 'Beginners-Guide-to-Blender.pdf', 'file_path': 'data/Beginners-Guide-to-Blender.pdf', 'file_type': 'application/pdf', 'file_size': 1139290, 'creation_date': '2024-06-23', 'last_modified_date': '2024-06-23', 'last_accessed_date': '2024-06-23'}, excluded_embed_metadata_keys=['file_name', 'file_type', 'file_size', 'creation_date', 'last_modified_date', 'last_accessed_date'], excluded_llm_metadata_keys=['file_name', 'file_type', 'file_size', 'creation_date', 'last_modified_date', 'last_accessed_date'], relationships={}, text='\\xa0\\n \\nTo change modes go up to the dropdown menu in the upper left hand corner:\\n \\n \\n \\n \\n \\n \\n \\n \\n \\n \\n \\n \\nYou will automatically be in object mode. To edit the shape, click on \\n\\u200b\\nedit mode.\\n\\u200b\\n (Shortcut: tab)\\n \\nThis will make your object look like this:\\n \\n \\n \\nWhen you are in edit mode, the\\n \\nonly thing you can click on is the\\n \\nobject itself. You can not select\\n \\nthe lamp or the camera.\\n \\n \\n \\nUsing the \\n\\u200b\\nG\\n\\u200b\\n shortcut (grab) you\\n \\ncan select any of the vertices and\\n \\npull on them.\\n \\n \\n \\n \\n \\n \\nProportional Editing\\n\\xa0\\n(Shortcut: O)\\n \\nThis tool allows you to edit a vertice and have it affect the vertices around it. This tool can be\\n \\nfound at the top of the screen:\\n \\n8\\n\\xa0\\n', start_char_idx=None, end_char_idx=None, text_template='{metadata_str}\\n\\n{content}', metadata_template='{key}: {value}', metadata_seperator='\\n'),\n",
       " Document(id_='9a5e58fd-f1da-4622-9411-86763edf6468', embedding=None, metadata={'page_label': '9', 'file_name': 'Beginners-Guide-to-Blender.pdf', 'file_path': 'data/Beginners-Guide-to-Blender.pdf', 'file_type': 'application/pdf', 'file_size': 1139290, 'creation_date': '2024-06-23', 'last_modified_date': '2024-06-23', 'last_accessed_date': '2024-06-23'}, excluded_embed_metadata_keys=['file_name', 'file_type', 'file_size', 'creation_date', 'last_modified_date', 'last_accessed_date'], excluded_llm_metadata_keys=['file_name', 'file_type', 'file_size', 'creation_date', 'last_modified_date', 'last_accessed_date'], relationships={}, text='\\xa0\\n\\xa0\\n \\n \\nX-Ray Mode\\n\\xa0\\n(shortcut: alt + z)\\n \\nIn order to see through your mesh, you can go into x-ray mode. This will also make it easier to\\n \\nselect large portions of your mesh while in edit mode.\\n \\n \\n \\nTo select x-ray mode, go to the top right hand side of the screen. You will find this icon:\\n \\n \\nThe icon has two squares, one with a partially dotted line.\\n \\n \\nX-ray mode while in edit mode will make your object look like this:\\n \\n \\nNote: You can use x-ray\\n \\nmode while in object mode,\\n \\nbut it won’t show these\\n \\ngrids, it will just make your\\n \\nobject look transparent.\\n \\n \\n \\nSubdivide\\n\\xa0\\nIf you want to quickly\\n \\ndouble the amount of\\n \\nvertices your mesh has in\\n \\norder to make the editing\\n \\nprocess easier, follow these\\n \\nsteps:\\n \\n1.\\nSelect the entire mesh by pressing \\n\\u200b\\nalt \\n\\u200b\\n+ \\n\\u200b\\nA\\n \\n9\\n\\xa0\\n', start_char_idx=None, end_char_idx=None, text_template='{metadata_str}\\n\\n{content}', metadata_template='{key}: {value}', metadata_seperator='\\n'),\n",
       " Document(id_='17267271-b80e-435c-aedb-7a9f0e7db45b', embedding=None, metadata={'page_label': '10', 'file_name': 'Beginners-Guide-to-Blender.pdf', 'file_path': 'data/Beginners-Guide-to-Blender.pdf', 'file_type': 'application/pdf', 'file_size': 1139290, 'creation_date': '2024-06-23', 'last_modified_date': '2024-06-23', 'last_accessed_date': '2024-06-23'}, excluded_embed_metadata_keys=['file_name', 'file_type', 'file_size', 'creation_date', 'last_modified_date', 'last_accessed_date'], excluded_llm_metadata_keys=['file_name', 'file_type', 'file_size', 'creation_date', 'last_modified_date', 'last_accessed_date'], relationships={}, text='\\xa0\\n2.\\nRight click on the mesh\\n \\n3.\\nSelect subdivide (it should be the first option listed.\\n \\nWhen you subdivide, this menu will appear in the bottom left-hand corner of the screen:\\n \\n \\nBy changing the \\n\\u200b\\nNumber of Cuts, \\n\\u200b\\nyou are editing how many times the mesh is subdivided. (The\\n \\nmore cuts, the more detail).\\n \\n \\nTurning up the \\n\\u200b\\nSmoothness\\n\\u200b\\n rounds out the edges of your mesh.\\n \\n \\n \\nNote: Once you click out of this menu, it is gone forever. This menu only appears when you first\\n \\nsubdivide and can not be brought back.\\n \\n \\nRender View\\n\\xa0\\nWhen you first open Blender, your scene will automatically be in a mode called \\n\\u200b\\nViewport\\n \\nShading: Solid\\n\\u200b\\n. If you want to see what your object will look like with lighting and rendered,\\n \\nyou need to switch to \\n\\u200b\\nViewport Shading: Rendered.\\n \\n \\n \\nThis option can be found in the upper right hand corner:\\n \\n \\n10\\n\\xa0', start_char_idx=None, end_char_idx=None, text_template='{metadata_str}\\n\\n{content}', metadata_template='{key}: {value}', metadata_seperator='\\n'),\n",
       " Document(id_='313f877b-e224-4a27-b3ca-699ccbba6fb3', embedding=None, metadata={'page_label': '11', 'file_name': 'Beginners-Guide-to-Blender.pdf', 'file_path': 'data/Beginners-Guide-to-Blender.pdf', 'file_type': 'application/pdf', 'file_size': 1139290, 'creation_date': '2024-06-23', 'last_modified_date': '2024-06-23', 'last_accessed_date': '2024-06-23'}, excluded_embed_metadata_keys=['file_name', 'file_type', 'file_size', 'creation_date', 'last_modified_date', 'last_accessed_date'], excluded_llm_metadata_keys=['file_name', 'file_type', 'file_size', 'creation_date', 'last_modified_date', 'last_accessed_date'], relationships={}, text='\\xa0\\n\\xa0\\nParenting\\n \\nParenting is useful when you are using two objects to create one item within your scene. If you\\n \\nwant the two objects to move and be edited together, you should link them through parenting.\\n \\nThis is how you link objects in Blender:\\n \\nSteps:\\n \\n1.\\nSelect the “child” object\\n \\n2.\\nThen hit \\n\\u200b\\nshift \\n\\u200b\\nand select the “parent” or “master” object.\\n \\n3.\\nThen hit \\n\\u200b\\nctrl + P\\n\\u200b\\n. This menu will appear:\\n \\n \\n4.\\nThen hit \\n\\u200b\\nObject (Keep Transform)\\n \\n \\nChanging Workspaces\\n\\xa0\\n\\xa0\\nAt the top of the screen there are a list of tabs: Layout, Modeling, Sculpting, UV Editing,\\n \\nTexture Paint, Shading, Animation, Rendering, Compositing, and Scripting. These are the\\n \\ndifferent workspaces that Blender has to offer. By clicking on each of these tabs, you enter a new\\n \\nworkspace.\\n \\n \\nIn this guide we have already gone over some of the basics of the Layout workspace. We will\\n \\nnow briefly go over the Sculpting, Modeling, and Animation workspaces.\\n \\n \\n \\n \\n \\n \\n \\n \\n \\n \\n \\n \\n11\\n\\xa0', start_char_idx=None, end_char_idx=None, text_template='{metadata_str}\\n\\n{content}', metadata_template='{key}: {value}', metadata_seperator='\\n'),\n",
       " Document(id_='25a448f3-26d7-4425-98c1-2f6f58c32366', embedding=None, metadata={'page_label': '12', 'file_name': 'Beginners-Guide-to-Blender.pdf', 'file_path': 'data/Beginners-Guide-to-Blender.pdf', 'file_type': 'application/pdf', 'file_size': 1139290, 'creation_date': '2024-06-23', 'last_modified_date': '2024-06-23', 'last_accessed_date': '2024-06-23'}, excluded_embed_metadata_keys=['file_name', 'file_type', 'file_size', 'creation_date', 'last_modified_date', 'last_accessed_date'], excluded_llm_metadata_keys=['file_name', 'file_type', 'file_size', 'creation_date', 'last_modified_date', 'last_accessed_date'], relationships={}, text='\\xa0\\n\\xa0\\n\\xa0\\nThe Sculpt Workspace\\n \\n \\nAt the top of your screen you have all of your brush settings.\\n \\n \\nRadius changes the size of your brush. \\n\\u200b\\n(Shortcut: F)\\n \\nStrength changes how dramatic your edits will be. \\n\\u200b\\n(Shortcut: Shift + F)\\n \\n \\n \\n<<On the left hand side of the screen, different brush options will appear. When you click on\\n \\na new brush, Blender offers you a quick example of what the brush is capable of on the right\\n \\nof the screen in the properties panel. You can also edit Strength and Radius here.\\n \\n \\nThe Properties Panel:\\n \\n \\nThe Draw Brush\\n\\xa0\\n<< This is an example of the classic \\n\\u200b\\nDraw\\n \\nbrush. This brush makes bumps on your mesh\\n \\nwherever you drag your mouse.\\n \\n \\n \\nThis brush can also be used to create indents in\\n \\nyour mesh by using the inverse of the \\n\\u200b\\nDraw\\n \\nbrush. To activate the inverse brush, hold down\\n \\nCtrl\\n\\u200b\\n while you draw.\\n \\n \\n \\nThe Other Brushes\\n\\xa0\\nYou should probably take some time to\\n \\nexperiment with all the brushes on your own,\\n \\nbut here are a few of the most important ones:\\n \\n \\n \\nInflate:\\n \\nThe inflate brush will create bulges in your mesh. This brush\\n \\nis particularly useful if your mesh has become undesirably\\n \\nconcave.\\n \\n \\n \\n \\nBlob:\\n \\nPushes mesh outward or inward into a spherical shape with\\n \\nsettings to control the amount of magnification at the edge of the\\n \\nsphere.\\n \\n12\\n\\xa0\\n', start_char_idx=None, end_char_idx=None, text_template='{metadata_str}\\n\\n{content}', metadata_template='{key}: {value}', metadata_seperator='\\n'),\n",
       " Document(id_='0e92e2a9-acee-48f4-a773-e7cf32884983', embedding=None, metadata={'page_label': '13', 'file_name': 'Beginners-Guide-to-Blender.pdf', 'file_path': 'data/Beginners-Guide-to-Blender.pdf', 'file_type': 'application/pdf', 'file_size': 1139290, 'creation_date': '2024-06-23', 'last_modified_date': '2024-06-23', 'last_accessed_date': '2024-06-23'}, excluded_embed_metadata_keys=['file_name', 'file_type', 'file_size', 'creation_date', 'last_modified_date', 'last_accessed_date'], excluded_llm_metadata_keys=['file_name', 'file_type', 'file_size', 'creation_date', 'last_modified_date', 'last_accessed_date'], relationships={}, text='\\xa0\\n \\nCrease:\\n \\nCreates sharp indents or ridges by pushing or pulling the mesh, while pinching the vertices\\n \\ntogether.\\n \\n \\nGrab:\\n \\n \\nThis brush will allow you to pull on your mesh. You can use it to extend your\\n \\nmesh in any given direction\\n \\n \\nSmooth:\\n \\nThis brush will smooth out your mesh. It is particularly useful\\n \\nwhen you have accidentally created undesirable bumps through the\\n \\nmanipulation of your mesh.\\n \\n \\n \\nFill:\\n \\nWorks like the Flatten brush, but only brings vertices below the brush plane upwards.\\n \\n \\n \\nThe Modeling Workspace\\n \\nThe Toolbar\\n \\nExtrude Region:\\n \\nExtrude the selected region together freely or along an axis.\\n \\n \\nInsert Faces:\\n \\nInsert selected faces.\\n \\n \\nBevel:\\n \\nCreate a bevel from the selected elements.\\n \\n \\nLoop Cut:\\n \\nCreate a loop cut along the mesh.\\n \\n \\nKnife:\\n \\nCreate a knife cut in the mesh. Press enter to confirm the cut.\\n \\n \\nPoly Build:\\n \\nCreate geometry by adding vertices one by one.\\n \\n \\nSpin:\\n \\n \\nCreate new geometry by extruding and rotating.\\n \\n \\n13\\n\\xa0\\n', start_char_idx=None, end_char_idx=None, text_template='{metadata_str}\\n\\n{content}', metadata_template='{key}: {value}', metadata_seperator='\\n'),\n",
       " Document(id_='9f557828-814e-43fa-826f-2a36cbe34fe4', embedding=None, metadata={'page_label': '14', 'file_name': 'Beginners-Guide-to-Blender.pdf', 'file_path': 'data/Beginners-Guide-to-Blender.pdf', 'file_type': 'application/pdf', 'file_size': 1139290, 'creation_date': '2024-06-23', 'last_modified_date': '2024-06-23', 'last_accessed_date': '2024-06-23'}, excluded_embed_metadata_keys=['file_name', 'file_type', 'file_size', 'creation_date', 'last_modified_date', 'last_accessed_date'], excluded_llm_metadata_keys=['file_name', 'file_type', 'file_size', 'creation_date', 'last_modified_date', 'last_accessed_date'], relationships={}, text='\\xa0\\n\\xa0\\nSmooth:\\n \\nFlatten angles of selected vertices.\\n \\n \\nEdge Slide:\\n \\nSlide edge along a face.\\n \\n \\nShrink/Flatten:\\n \\nShrink selected vertices along their normals.\\n \\n \\nShear:\\n \\nShear selected elements.\\n \\n \\nRip Region:\\n \\nRip Polygons and move the result.\\n \\n\\xa0\\nThe Animation Workspace\\n\\xa0\\nState Colors\\n \\nProperties have different colors and menu items for different states. The different colors mean\\n \\ndifferent things:\\n \\n \\n \\nRigg\\n\\u200b\\ning :\\n\\xa0\\nWhat is rigging?\\n \\nRigging is a general term used when describing the controls added to objects for the purpose of\\n \\nanimation.\\n \\n \\nRigging terms to know:\\n \\nArmatures:\\n\\u200b\\n Allows mesh to have flexible joints and is used for skeletal animation. It contains\\n \\n‘bones’ that make the model poseable.\\n \\n \\nConstraints: \\n\\u200b\\nControls motion and adds functionality to the rig.\\n \\nDrivers: \\n\\u200b\\nAllows your rig to control many different values at once. It will make some properties\\n \\nautomatically update based on changes everywhere.\\n \\n \\n \\n14\\n\\xa0', start_char_idx=None, end_char_idx=None, text_template='{metadata_str}\\n\\n{content}', metadata_template='{key}: {value}', metadata_seperator='\\n'),\n",
       " Document(id_='a39f38a3-7f11-4b3e-8e5f-327653b9b27d', embedding=None, metadata={'page_label': '15', 'file_name': 'Beginners-Guide-to-Blender.pdf', 'file_path': 'data/Beginners-Guide-to-Blender.pdf', 'file_type': 'application/pdf', 'file_size': 1139290, 'creation_date': '2024-06-23', 'last_modified_date': '2024-06-23', 'last_accessed_date': '2024-06-23'}, excluded_embed_metadata_keys=['file_name', 'file_type', 'file_size', 'creation_date', 'last_modified_date', 'last_accessed_date'], excluded_llm_metadata_keys=['file_name', 'file_type', 'file_size', 'creation_date', 'last_modified_date', 'last_accessed_date'], relationships={}, text='\\xa0\\n\\xa0\\nKeyframes:\\n\\xa0\\nIn Blender, \\n\\u200b\\nkeyframes\\n\\u200b\\n are represented by small yellow diamonds on the timeline.\\n \\n \\nWhen the current frame is a keyframe for the current object, the name of the object will turn\\n \\nyellow.\\n \\nHere is what that will look like:\\n \\n \\nDifferent keyframe types:\\n \\nKeyframe\\n\\u200b\\n (White/yellow diamond) - normal keyframe\\n \\nBreakdown\\n\\u200b\\n (small cyan diamond) - for transitions between key poses\\n \\nMoving Hold\\n\\u200b\\n (dark gray / orange diamond) - A\\n \\nkeyframe that adds a small amount of motion\\n \\naround a holding pose.\\n \\nExtreme\\n\\u200b\\n (big pink diamond) - An extreme state.\\n \\nJitter\\n\\u200b\\n (tiny green diamond) - A filler or baked\\n \\nkeyframe for keying on ones.\\n \\nWAYS TO INSERT KEYFRAMES\\n \\n1.\\nShortcut: I\\n \\n2.\\nMenu: Object>Animation>Insert Keyframe\\n \\n3.\\nPressing Auto Keyframe in the timeline header:\\n \\n \\n \\nWAYS TO DELETE KEYFRAMES:\\n \\n1.\\nMenu: Object>Animation>Clear Keyframes...\\n \\n2.\\nShortcut: Alt-I\\n \\n \\nGraph Editor:\\n\\xa0\\nKeyframe interpolation is controlled by animation curves (F-curves) which can be modified in\\n \\nthe Graph Editor.\\n \\nHere is an example of what the graph editor might look like;\\n \\n15\\n\\xa0\\n', start_char_idx=None, end_char_idx=None, text_template='{metadata_str}\\n\\n{content}', metadata_template='{key}: {value}', metadata_seperator='\\n'),\n",
       " Document(id_='710c582f-ac3d-4fa2-907b-dcd69059d1d2', embedding=None, metadata={'page_label': '16', 'file_name': 'Beginners-Guide-to-Blender.pdf', 'file_path': 'data/Beginners-Guide-to-Blender.pdf', 'file_type': 'application/pdf', 'file_size': 1139290, 'creation_date': '2024-06-23', 'last_modified_date': '2024-06-23', 'last_accessed_date': '2024-06-23'}, excluded_embed_metadata_keys=['file_name', 'file_type', 'file_size', 'creation_date', 'last_modified_date', 'last_accessed_date'], excluded_llm_metadata_keys=['file_name', 'file_type', 'file_size', 'creation_date', 'last_modified_date', 'last_accessed_date'], relationships={}, text='\\xa0\\n\\xa0\\n \\nKEY PARTS:\\n \\n-\\n\\u200b\\nThe curve\\n\\u200b\\n itself defines the values on the X and Y axis overtime.\\n \\n \\n-\\n\\u200b\\nThe keyframes\\n\\u200b\\n are represented by little black squares. (They will appear orange when selected).\\n \\n-\\n\\u200b\\nHandles\\n\\u200b\\n on each keyframe will help you edit the curves:\\n \\n \\n \\nIntermediate Guide to Blender\\n\\xa0\\nA second guide to Blender will be released soon on the SCTV website. This guide will go more\\n \\nin depth about how to use armatures, the animation process, and rendering.\\n \\n \\n \\nGlossary :\\n\\xa0\\n\\xa0\\nA\\n\\xa0\\nAction Editor: \\n\\u200b\\nAllows you to alter the key positions of an armature and it’s collection of bones.\\n \\n \\nActive Window\\n\\u200b\\n: The window currently responding to keystrokes\\n \\nArmature\\n\\u200b\\n: An object which contains ‘bones’. Used for rigging 3D models in order to make them\\n \\nposeable and animateable.\\n \\nB\\n\\xa0\\nBlender Unit\\n\\u200b\\n: The Height and width of each grid square in a 3D view window\\n \\n16\\n\\xa0', start_char_idx=None, end_char_idx=None, text_template='{metadata_str}\\n\\n{content}', metadata_template='{key}: {value}', metadata_seperator='\\n'),\n",
       " Document(id_='aca11354-b702-4a4a-84fe-969f802f1dce', embedding=None, metadata={'page_label': '17', 'file_name': 'Beginners-Guide-to-Blender.pdf', 'file_path': 'data/Beginners-Guide-to-Blender.pdf', 'file_type': 'application/pdf', 'file_size': 1139290, 'creation_date': '2024-06-23', 'last_modified_date': '2024-06-23', 'last_accessed_date': '2024-06-23'}, excluded_embed_metadata_keys=['file_name', 'file_type', 'file_size', 'creation_date', 'last_modified_date', 'last_accessed_date'], excluded_llm_metadata_keys=['file_name', 'file_type', 'file_size', 'creation_date', 'last_modified_date', 'last_accessed_date'], relationships={}, text='Bones: \\n\\u200b\\nSub-objects which are connected with each other in a chain. Each bone-link is parented to\\n \\nthe bone before it.\\n \\n \\nBuffer Shadows: \\n\\u200b\\nMethod of generating shadows cast by light by calculating the angle of a\\n \\nmesh’s edge and creating a set amount of shadow “squares” on the shadow-receiving objects\\n \\nwhich are calculated from a set buffer-ration. Memory-friendly but lower quality.\\n \\nC\\n\\xa0\\nCurves\\n\\u200b\\n: (An object type). Curves are mathematically defined objects which can be manipulated\\n \\nwith control handles or control points (instead of vertices), to manage their length and curvature.\\n \\nE\\n\\xa0\\nEdge:\\n\\u200b\\n A wire-like line representing the boundary of 2 adjacent vertices.\\n \\nEmpties\\n\\u200b\\n: Null objects that are simple visual transform nodes that do not render. They are useful\\n \\nfor controlling the position or movement of other objects.\\n \\nF\\n\\xa0\\nFile Browser\\n\\u200b\\n: Browses the files on your computer in Blender.\\n \\n \\nForce Fields\\n\\u200b\\n: (An object type). Used in physical simulations. They give simulations external\\n \\nforces, creating movement, and are represented in the 3D Viewport as small control objects.\\n \\nG\\n\\xa0\\nGrease Pencil Objects\\n\\u200b\\n: (An object type). \\n\\u200b\\nObjects created by painting strokes.\\n \\nI\\n\\xa0\\nIcosphere:\\n\\u200b\\n A sphere composed of triangular faces composed in a manner to give the best\\n \\n“smoothness” for lowest memory consumption.\\n \\n: IPO Curve Editor\\n\\u200b\\n: Allows you to insert saved key points of the positions, transformations, and\\n \\nsettings of objects of the course of a series of frames.\\n \\nK\\n\\xa0\\nKeyframe: \\n\\u200b\\nA marker of time which stores the value of a property.\\n \\nM\\n\\xa0\\nMesh: \\n\\u200b\\n (An object type). A collection of faces, edges, and vertices which can be modeled and\\n \\nmanipulated in Edit Mode.\\n \\n \\nMetaballs:\\n\\u200b\\n (An object type). Meta objects (or metaballs) are objects formed by a mathematical\\n \\nfunction (with no control points or vertices) defining the 3D volume in which the object exists.\\n \\nMeta objects have a liquid-like quality where when two or more metaballs are brought together,\\n \\nthey merge by smoothly rounding out the connection, appearing as one unified object.\\n \\n \\nN\\n\\xa0\\nNLA Editor\\n\\u200b\\n: Allows you to change the key positions of all actions/IPO’s.\\n \\nR\\n\\xa0\\nRay Shadows:\\n\\u200b\\n Method of generating shadows cast by light by calculating the angle and faces of\\n \\nthe interfering object to create a smooth, sharp and complete shadow. Memory intensive but the\\n \\nbest quality.\\n \\nS\\n\\xa0\\nScripts Browser\\n\\u200b\\n: The window used to initiate any Python scripts save in BLender to add\\n \\nfunctionality.\\n \\nSurface\\n\\u200b\\n: (An object type). Surfaces are patches that are also manipulated with control points.\\n \\nThese are useful for simple rounded forms and organic landscapes.\\n \\n17\\n\\xa0', start_char_idx=None, end_char_idx=None, text_template='{metadata_str}\\n\\n{content}', metadata_template='{key}: {value}', metadata_seperator='\\n'),\n",
       " Document(id_='bd65eef8-a4e5-45a6-a257-08a8ab8bd10c', embedding=None, metadata={'page_label': '18', 'file_name': 'Beginners-Guide-to-Blender.pdf', 'file_path': 'data/Beginners-Guide-to-Blender.pdf', 'file_type': 'application/pdf', 'file_size': 1139290, 'creation_date': '2024-06-23', 'last_modified_date': '2024-06-23', 'last_accessed_date': '2024-06-23'}, excluded_embed_metadata_keys=['file_name', 'file_type', 'file_size', 'creation_date', 'last_modified_date', 'last_accessed_date'], excluded_llm_metadata_keys=['file_name', 'file_type', 'file_size', 'creation_date', 'last_modified_date', 'last_accessed_date'], relationships={}, text='T\\n\\xa0\\nText\\n\\u200b\\n: (An object type). Text objects create a two-dimensional representation of a string of\\n \\ncharacters.\\n \\nTexture Paint\\n\\u200b\\n: Change the pixels of the active image texture.\\n \\nU\\n\\xa0\\nUV/Image Editor:\\n\\u200b\\n Allows you to add and alter image files in Blender and also apply these\\n \\nimages on to the faces of meshes in an editable fashion as a material.\\n \\n \\nUVSphere:\\n\\u200b\\n A sphere composed of square faces arranged in rings to allow the smoothest\\n \\napplication of real-time movement of vertices.faces and application of images onto the faces.\\n \\nV\\n\\xa0\\nVertex (Vertices):\\n\\u200b\\n A 3-dimensional coordinate, which in groups comprise a polygon. With\\n \\ndefault settings, it is represented in Blender by a purple dot when unselected and a yellow dot\\n \\nwhen selected.\\n \\nVertex Paint\\n\\u200b\\n: Change the color of vertices in the active vertex color layer.\\n\\xa0\\nW\\n\\xa0\\nWeight Paint\\n\\u200b\\n: Change the weight of vertices in the active vertex group.\\n \\n \\n \\n \\n \\n \\n \\n \\n \\n \\n \\n \\n \\n \\n \\n \\n \\n \\n \\n \\n \\n \\n \\n \\n \\n \\nCreated by Katelyn Brooks - Spring 2020\\n\\xa0\\n18\\n\\xa0', start_char_idx=None, end_char_idx=None, text_template='{metadata_str}\\n\\n{content}', metadata_template='{key}: {value}', metadata_seperator='\\n')]"
      ]
     },
     "execution_count": 9,
     "metadata": {},
     "output_type": "execute_result"
    }
   ],
   "source": [
    "documents"
   ]
  },
  {
   "cell_type": "code",
   "execution_count": 10,
   "metadata": {},
   "outputs": [
    {
     "name": "stderr",
     "output_type": "stream",
     "text": [
      "/Users/satishnvrn/Documents/Projects/AI/ragBlenderWithLlamaIndexOpenAI/venv/lib/python3.10/site-packages/tqdm/auto.py:21: TqdmWarning: IProgress not found. Please update jupyter and ipywidgets. See https://ipywidgets.readthedocs.io/en/stable/user_install.html\n",
      "  from .autonotebook import tqdm as notebook_tqdm\n",
      "Parsing nodes: 100%|██████████| 18/18 [00:00<00:00, 1330.19it/s]\n",
      "Generating embeddings: 100%|██████████| 18/18 [00:01<00:00, 13.52it/s]\n"
     ]
    }
   ],
   "source": [
    "index=VectorStoreIndex.from_documents(documents,show_progress=True)"
   ]
  },
  {
   "cell_type": "code",
   "execution_count": 11,
   "metadata": {},
   "outputs": [
    {
     "data": {
      "text/plain": [
       "<llama_index.legacy.indices.vector_store.base.VectorStoreIndex at 0x156afaf20>"
      ]
     },
     "execution_count": 11,
     "metadata": {},
     "output_type": "execute_result"
    }
   ],
   "source": [
    "index"
   ]
  },
  {
   "cell_type": "code",
   "execution_count": 12,
   "metadata": {},
   "outputs": [],
   "source": [
    "query_engine=index.as_query_engine()"
   ]
  },
  {
   "cell_type": "code",
   "execution_count": 26,
   "metadata": {},
   "outputs": [],
   "source": [
    "from llama_index.legacy.retrievers import VectorIndexRetriever\n",
    "from llama_index.legacy.query_engine import RetrieverQueryEngine\n",
    "from llama_index.legacy.indices.postprocessor import SimilarityPostprocessor\n",
    "\n",
    "retriever=VectorIndexRetriever(index=index,similarity_top_k=4)\n",
    "postprocessor=SimilarityPostprocessor(similarity_cutoff=0.70)\n",
    "\n",
    "query_engine=RetrieverQueryEngine(retriever,node_postprocessors=[postprocessor])"
   ]
  },
  {
   "cell_type": "code",
   "execution_count": 27,
   "metadata": {},
   "outputs": [],
   "source": [
    "response=query_engine.query('How to install Blender in mac')"
   ]
  },
  {
   "cell_type": "code",
   "execution_count": 16,
   "metadata": {},
   "outputs": [
    {
     "data": {
      "text/plain": [
       "Response(response='To install Blender on a Mac, you can visit the official Blender website at blender.org. There, you can find the download section specifically for Mac users. Download the appropriate version for your Mac operating system and follow the installation instructions provided on the website.', source_nodes=[NodeWithScore(node=TextNode(id_='98b11a03-d397-4a7f-b465-6ec39e6c7c8f', embedding=None, metadata={'page_label': '2', 'file_name': 'Beginners-Guide-to-Blender.pdf', 'file_path': 'data/Beginners-Guide-to-Blender.pdf', 'file_type': 'application/pdf', 'file_size': 1139290, 'creation_date': '2024-06-23', 'last_modified_date': '2024-06-23', 'last_accessed_date': '2024-06-23'}, excluded_embed_metadata_keys=['file_name', 'file_type', 'file_size', 'creation_date', 'last_modified_date', 'last_accessed_date'], excluded_llm_metadata_keys=['file_name', 'file_type', 'file_size', 'creation_date', 'last_modified_date', 'last_accessed_date'], relationships={<NodeRelationship.SOURCE: '1'>: RelatedNodeInfo(node_id='b7ecbdb0-43ba-43fb-baaa-8e49afc266bb', node_type=<ObjectType.DOCUMENT: '4'>, metadata={'page_label': '2', 'file_name': 'Beginners-Guide-to-Blender.pdf', 'file_path': 'data/Beginners-Guide-to-Blender.pdf', 'file_type': 'application/pdf', 'file_size': 1139290, 'creation_date': '2024-06-23', 'last_modified_date': '2024-06-23', 'last_accessed_date': '2024-06-23'}, hash='894ff091051f1437354e2ae865f6a1cf7c223444c7772688b6cb8657d924b0a6'), <NodeRelationship.PREVIOUS: '2'>: RelatedNodeInfo(node_id='5288d5b8-20f6-462a-976d-35750c46667c', node_type=<ObjectType.TEXT: '1'>, metadata={'page_label': '1', 'file_name': 'Beginners-Guide-to-Blender.pdf', 'file_path': 'data/Beginners-Guide-to-Blender.pdf', 'file_type': 'application/pdf', 'file_size': 1139290, 'creation_date': '2024-06-23', 'last_modified_date': '2024-06-23', 'last_accessed_date': '2024-06-23'}, hash='730fb40a6c3913fe55e07d815bef5f5f59d1a17546430c6cac09a0493c4bb197'), <NodeRelationship.NEXT: '3'>: RelatedNodeInfo(node_id='4230df3e-3ebb-4c06-bd88-21b5076a5b72', node_type=<ObjectType.TEXT: '1'>, metadata={}, hash='5eb81ae56acb6c3d2ad30db980301068948584260c02d7f220a24e11ac750d88')}, text='About Blender\\n \\n“\\n\\u200b\\nBlender is the free and open source 3D creation suite. It supports the entirety of the 3D\\n \\npipeline—modeling, rigging, animation, simulation, rendering, compositing and motion tracking,\\n \\nvideo editing and 2D animation pipeline.”\\n \\n \\nLearn more about blender at \\n\\u200b\\nblender.org\\n\\u200b\\n.\\n \\n \\nOpening Blender\\n \\nThis is what you will see when you first open Blender. This is called the \\n\\u200b\\n3D Viewport. \\n\\u200b\\nThis is\\n \\nwhere you will spend the majority of your time in Blender when you first get started.\\n \\n \\nOn the left-hand side you have a small \\n\\u200b\\ntoolbar\\n\\u200b\\n. In the center is \\n\\u200b\\nyour scene\\n\\u200b\\n. At the bottom of the\\n \\npage is \\n\\u200b\\nyour timeline\\n\\u200b\\n.\\n \\n \\nOn the top right hand side you have a list of all the objects in your scene. This is called \\n\\u200b\\nthe\\n \\nOutliner\\n\\u200b\\n. This is where you can \\n\\u200b\\nname \\n\\u200b\\nthe objects in your scene.\\n \\n \\nOn the bottom right-hand side you will find \\n\\u200b\\nyour properties panel\\n\\u200b\\n. This is where the majority\\n \\nof the settings can be found.\\n \\n \\nMoving Around in Blender\\n \\nBy holding down the \\n\\u200b\\nmiddle mouse key\\n\\u200b\\n, you can orbit the plane and rotate your viewpoint of\\n \\nthe workspace.\\n \\n2', start_char_idx=6, end_char_idx=1126, text_template='{metadata_str}\\n\\n{content}', metadata_template='{key}: {value}', metadata_seperator='\\n'), score=0.7914415027119984), NodeWithScore(node=TextNode(id_='4230df3e-3ebb-4c06-bd88-21b5076a5b72', embedding=None, metadata={'page_label': '3', 'file_name': 'Beginners-Guide-to-Blender.pdf', 'file_path': 'data/Beginners-Guide-to-Blender.pdf', 'file_type': 'application/pdf', 'file_size': 1139290, 'creation_date': '2024-06-23', 'last_modified_date': '2024-06-23', 'last_accessed_date': '2024-06-23'}, excluded_embed_metadata_keys=['file_name', 'file_type', 'file_size', 'creation_date', 'last_modified_date', 'last_accessed_date'], excluded_llm_metadata_keys=['file_name', 'file_type', 'file_size', 'creation_date', 'last_modified_date', 'last_accessed_date'], relationships={<NodeRelationship.SOURCE: '1'>: RelatedNodeInfo(node_id='8116a28e-7d89-4f92-9c02-982efd6e0f4a', node_type=<ObjectType.DOCUMENT: '4'>, metadata={'page_label': '3', 'file_name': 'Beginners-Guide-to-Blender.pdf', 'file_path': 'data/Beginners-Guide-to-Blender.pdf', 'file_type': 'application/pdf', 'file_size': 1139290, 'creation_date': '2024-06-23', 'last_modified_date': '2024-06-23', 'last_accessed_date': '2024-06-23'}, hash='3f81a3a642a74020422853acb29cccafe928f46898e212015985c08b721dfe16'), <NodeRelationship.PREVIOUS: '2'>: RelatedNodeInfo(node_id='98b11a03-d397-4a7f-b465-6ec39e6c7c8f', node_type=<ObjectType.TEXT: '1'>, metadata={'page_label': '2', 'file_name': 'Beginners-Guide-to-Blender.pdf', 'file_path': 'data/Beginners-Guide-to-Blender.pdf', 'file_type': 'application/pdf', 'file_size': 1139290, 'creation_date': '2024-06-23', 'last_modified_date': '2024-06-23', 'last_accessed_date': '2024-06-23'}, hash='c72044f32fb739145b2c38901a255ecf51e4187ae2ca22124dc8c33a291d1087'), <NodeRelationship.NEXT: '3'>: RelatedNodeInfo(node_id='52966363-1ccf-4d05-a9f1-c80d35a7f07b', node_type=<ObjectType.TEXT: '1'>, metadata={}, hash='f580d3092a02fdf71db86c42048b9309cd5554f8001bc716e103580813039fcb')}, text='By pressing \\n\\u200b\\nshift + middle mouse button\\n\\u200b\\n, you can pan across the\\n \\nplane.\\n \\nIf you are on a laptop without a mouse you can also use this:\\n \\n \\n(Which can be found in the top right hand corner of the\\n \\nworkspace.)\\n \\nMoving Objects in\\n\\xa0\\nBlender\\n \\nThe tools for moving objects in blender can be found on the left-hand-side toolbar.\\n \\n \\nSelecting the button third from the top will allow you to \\n\\u200b\\nmove your object\\n\\u200b\\n along the three axes\\n \\n(x,y,z). When you select this button, your object will look\\n \\nlike this>>:\\n \\nShortcut: G \\n\\u200b\\n(This will not bring up the axis guides but will\\n \\nallow you to freely move the object. G stands for Grab)\\n \\nWhile it’s moving, if you press x , y, or z it will snap to that\\n \\naxis.\\n \\n \\nUnderneath the move icon is the \\n\\u200b\\nrotate\\n\\u200b\\n icon. This will make\\n \\nyour cube look like this :\\n \\nYou can select any of the colored lines to rotate along an axis\\n \\nbut you can also select anywhere within the cube to do a free\\n \\nrotate.\\n \\n \\nRight click or hit escape to undo your rotation.\\n \\n \\n(Shortcut: R)\\n \\n \\nUnderneath the rotate button is the\\n \\nscale option. It will make your cube\\n \\nlook like this>>:\\n \\n3', start_char_idx=4, end_char_idx=1131, text_template='{metadata_str}\\n\\n{content}', metadata_template='{key}: {value}', metadata_seperator='\\n'), score=0.7830242550217748)], metadata={'98b11a03-d397-4a7f-b465-6ec39e6c7c8f': {'page_label': '2', 'file_name': 'Beginners-Guide-to-Blender.pdf', 'file_path': 'data/Beginners-Guide-to-Blender.pdf', 'file_type': 'application/pdf', 'file_size': 1139290, 'creation_date': '2024-06-23', 'last_modified_date': '2024-06-23', 'last_accessed_date': '2024-06-23'}, '4230df3e-3ebb-4c06-bd88-21b5076a5b72': {'page_label': '3', 'file_name': 'Beginners-Guide-to-Blender.pdf', 'file_path': 'data/Beginners-Guide-to-Blender.pdf', 'file_type': 'application/pdf', 'file_size': 1139290, 'creation_date': '2024-06-23', 'last_modified_date': '2024-06-23', 'last_accessed_date': '2024-06-23'}})"
      ]
     },
     "execution_count": 16,
     "metadata": {},
     "output_type": "execute_result"
    }
   ],
   "source": [
    "response"
   ]
  },
  {
   "cell_type": "code",
   "execution_count": 28,
   "metadata": {},
   "outputs": [
    {
     "name": "stdout",
     "output_type": "stream",
     "text": [
      "Final Response: To install Blender on a Mac, you can visit the\n",
      "official Blender website at blender.org. Look for the download section\n",
      "and choose the version compatible with macOS. Once the download is\n",
      "complete, open the downloaded file and drag the Blender application\n",
      "into your Applications folder to install it on your Mac.\n",
      "______________________________________________________________________\n",
      "Source Node 1/4\n",
      "Node ID: 98b11a03-d397-4a7f-b465-6ec39e6c7c8f\n",
      "Similarity: 0.7914415027119984\n",
      "Text: About Blender   “ ​ Blender is the free and open source 3D\n",
      "creation suite. It supports the entirety of the 3D\n",
      "pipeline—modeling, rigging, animation, simulation, rendering,\n",
      "compositing and motion tracking,   video editing and 2D animation\n",
      "pipeline.”     Learn more about blender at  ​ blender.org ​ .\n",
      "Opening Blender   This is what you will s...\n",
      "______________________________________________________________________\n",
      "Source Node 2/4\n",
      "Node ID: 4230df3e-3ebb-4c06-bd88-21b5076a5b72\n",
      "Similarity: 0.7830242550217748\n",
      "Text: By pressing  ​ shift + middle mouse button ​ , you can pan\n",
      "across the   plane.   If you are on a laptop without a mouse you can\n",
      "also use this:     (Which can be found in the top right hand corner of\n",
      "the   workspace.)   Moving Objects in   Blender   The tools for moving\n",
      "objects in blender can be found on the left-hand-side toolbar.\n",
      "Selecting ...\n",
      "______________________________________________________________________\n",
      "Source Node 3/4\n",
      "Node ID: 1c9641bf-42af-410a-a49d-deb568dbb0b3\n",
      "Similarity: 0.7656225478276716\n",
      "Text: 2. Right click on the mesh   3. Select subdivide (it should be\n",
      "the first option listed.   When you subdivide, this menu will appear\n",
      "in the bottom left-hand corner of the screen:     By changing the  ​\n",
      "Number of Cuts,  ​ you are editing how many times the mesh is\n",
      "subdivided. (The   more cuts, the more detail).     Turning up the  ​\n",
      "Smoothness ​  ...\n",
      "______________________________________________________________________\n",
      "Source Node 4/4\n",
      "Node ID: 45371c7d-ac0c-4b4f-99f7-cc93578e4e88\n",
      "Similarity: 0.7638036907845421\n",
      "Text: Important ​ : When you first duplicate an object, it will just\n",
      "be an extension of the first object. To   make it into its own object,\n",
      "press  ​ P ​ . A small menu will appear, press  ​ Selection ​ . Now\n",
      "you have   an independent duplicated object.     Shade Smooth vs.\n",
      "Shade Flat   If you right-click on your mesh, you get these settings:\n",
      "By ...\n",
      "To install Blender on a Mac, you can visit the official Blender website at blender.org. Look for the download section and choose the version compatible with macOS. Once the download is complete, open the downloaded file and drag the Blender application into your Applications folder to install it on your Mac.\n"
     ]
    }
   ],
   "source": [
    "from llama_index.legacy.response.pprint_utils import pprint_response\n",
    "pprint_response(response,show_source=True)\n",
    "print(response)"
   ]
  },
  {
   "cell_type": "code",
   "execution_count": 29,
   "metadata": {},
   "outputs": [
    {
     "name": "stdout",
     "output_type": "stream",
     "text": [
      "To generate a glTF export from a Python script, you can utilize Blender's Python API. By scripting in Python within Blender, you can automate the process of exporting your 3D models to the glTF format. This can be achieved by writing a Python script that accesses Blender's export functionalities and specifies the glTF format as the output. By executing this script within Blender, you can generate a glTF export directly from your Python code.\n"
     ]
    }
   ],
   "source": [
    "import os.path\n",
    "from llama_index.legacy import (VectorStoreIndex,SimpleDirectoryReader,StorageContext,load_index_from_storage)\n",
    "\n",
    "PERSIST_DIR='./storage'\n",
    "if not os.path.exists(PERSIST_DIR):\n",
    "  documents=SimpleDirectoryReader('./data').load_data()\n",
    "  index=VectorStoreIndex.from_documents(documents)\n",
    "  index.storage_context.persist(persist_dir=PERSIST_DIR)\n",
    "else:\n",
    "  storage_context=StorageContext.from_defaults(persist_dir=PERSIST_DIR)\n",
    "  index=load_index_from_storage(storage_context)\n",
    "\n",
    "\n",
    "query_engine=index.as_query_engine()\n",
    "response=query_engine.query('How can we generate gltf export from python script')\n",
    "print(response)\n",
    "\n"
   ]
  }
 ],
 "metadata": {
  "kernelspec": {
   "display_name": "Python 3",
   "language": "python",
   "name": "python3"
  },
  "language_info": {
   "codemirror_mode": {
    "name": "ipython",
    "version": 3
   },
   "file_extension": ".py",
   "mimetype": "text/x-python",
   "name": "python",
   "nbconvert_exporter": "python",
   "pygments_lexer": "ipython3",
   "version": "3.10.0"
  }
 },
 "nbformat": 4,
 "nbformat_minor": 2
}
